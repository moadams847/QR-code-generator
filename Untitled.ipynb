{
 "cells": [
  {
   "cell_type": "code",
   "execution_count": 1,
   "id": "68d54b8b-14c8-4ab0-8080-a118252fb668",
   "metadata": {},
   "outputs": [],
   "source": [
    "import qrcode"
   ]
  },
  {
   "cell_type": "code",
   "execution_count": 7,
   "id": "bb6d4b62-80b4-413e-bbe2-d800cce2e576",
   "metadata": {},
   "outputs": [
    {
     "name": "stdout",
     "output_type": "stream",
     "text": [
      "QR code for Google Maps link generated successfully.\n"
     ]
    }
   ],
   "source": [
    "import qrcode\n",
    "\n",
    "# Define the Google Maps link\n",
    "google_maps_link = \"https://maps.app.goo.gl/NoU2JCJUfa57kgDH9\"\n",
    "qr = qrcode.QRCode(\n",
    "    version=1,\n",
    "    error_correction=qrcode.constants.ERROR_CORRECT_L,\n",
    "    box_size=10,\n",
    "    border=4,)\n",
    "\n",
    "qr.add_data(google_maps_link)\n",
    "qr.make(fit=True)\n",
    "\n",
    "# Create an image from the QR code\n",
    "img = qr.make_image(fill_color=\"black\", back_color=\"white\")\n",
    "\n",
    "# Save the image to a file\n",
    "img.save(\"google_maps_qr_code.png\")\n",
    "\n",
    "print(\"QR code for Google Maps link generated successfully.\")"
   ]
  }
 ],
 "metadata": {
  "kernelspec": {
   "display_name": "Python 3 (ipykernel)",
   "language": "python",
   "name": "python3"
  },
  "language_info": {
   "codemirror_mode": {
    "name": "ipython",
    "version": 3
   },
   "file_extension": ".py",
   "mimetype": "text/x-python",
   "name": "python",
   "nbconvert_exporter": "python",
   "pygments_lexer": "ipython3",
   "version": "3.11.7"
  }
 },
 "nbformat": 4,
 "nbformat_minor": 5
}
